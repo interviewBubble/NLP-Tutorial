{
  "nbformat": 4,
  "nbformat_minor": 0,
  "metadata": {
    "colab": {
      "name": "Untitled0.ipynb",
      "provenance": [],
      "toc_visible": true,
      "authorship_tag": "ABX9TyOXBC5g9pTOiAF1bjx3fm9C",
      "include_colab_link": true
    },
    "kernelspec": {
      "name": "python3",
      "display_name": "Python 3"
    },
    "accelerator": "GPU"
  },
  "cells": [
    {
      "cell_type": "markdown",
      "metadata": {
        "id": "view-in-github",
        "colab_type": "text"
      },
      "source": [
        "<a href=\"https://colab.research.google.com/github/interviewBubble/NLP-Tutorial/blob/master/Untitled0.ipynb\" target=\"_parent\"><img src=\"https://colab.research.google.com/assets/colab-badge.svg\" alt=\"Open In Colab\"/></a>"
      ]
    },
    {
      "cell_type": "code",
      "metadata": {
        "id": "6ui17cDVw_Yq",
        "colab_type": "code",
        "colab": {
          "base_uri": "https://localhost:8080/",
          "height": 122
        },
        "outputId": "7947e8a9-58de-4c8f-8dce-3214ecc8cc28"
      },
      "source": [
        "from google.colab import drive\n",
        "drive.mount('/content/drive')"
      ],
      "execution_count": 6,
      "outputs": [
        {
          "output_type": "stream",
          "text": [
            "Go to this URL in a browser: https://accounts.google.com/o/oauth2/auth?client_id=947318989803-6bn6qk8qdgf4n4g3pfee6491hc0brc4i.apps.googleusercontent.com&redirect_uri=urn%3aietf%3awg%3aoauth%3a2.0%3aoob&response_type=code&scope=email%20https%3a%2f%2fwww.googleapis.com%2fauth%2fdocs.test%20https%3a%2f%2fwww.googleapis.com%2fauth%2fdrive%20https%3a%2f%2fwww.googleapis.com%2fauth%2fdrive.photos.readonly%20https%3a%2f%2fwww.googleapis.com%2fauth%2fpeopleapi.readonly\n",
            "\n",
            "Enter your authorization code:\n",
            "··········\n",
            "Mounted at /content/drive\n"
          ],
          "name": "stdout"
        }
      ]
    },
    {
      "cell_type": "code",
      "metadata": {
        "id": "6RZIBDYGxVlu",
        "colab_type": "code",
        "colab": {
          "base_uri": "https://localhost:8080/",
          "height": 85
        },
        "outputId": "b2caf173-60a8-484d-d777-7a09a753b2d9"
      },
      "source": [
        "%cd drive\n",
        "%cd My\\ Drive\n",
        "%cd PDF-Table-Structure-Recognition\n",
        "!ls"
      ],
      "execution_count": 7,
      "outputs": [
        {
          "output_type": "stream",
          "text": [
            "/content/drive\n",
            "/content/drive/My Drive\n",
            "/content/drive/My Drive/PDF-Table-Structure-Recognition\n",
            "data  evaluation  models  pipeline  README.md  requirements.txt  tablegenerator\n"
          ],
          "name": "stdout"
        }
      ]
    },
    {
      "cell_type": "code",
      "metadata": {
        "id": "Eml667hoyA9Z",
        "colab_type": "code",
        "colab": {
          "base_uri": "https://localhost:8080/",
          "height": 1000
        },
        "outputId": "791df7b7-12b5-4081-e5f9-028c65820d65"
      },
      "source": [
        "!pip install -r requirements.txt\n",
        "!pip install fitz\n",
        "!pip install PyMuPDF\n",
        "!pip install minecart"
      ],
      "execution_count": 9,
      "outputs": [
        {
          "output_type": "stream",
          "text": [
            "Requirement already satisfied: torch>=0.4.1 in /usr/local/lib/python3.6/dist-packages (from -r requirements.txt (line 1)) (1.3.1)\n",
            "Requirement already satisfied: torchvision>=0.2.1 in /usr/local/lib/python3.6/dist-packages (from -r requirements.txt (line 2)) (0.4.2)\n",
            "Collecting dominate>=2.3.1\n",
            "  Downloading https://files.pythonhosted.org/packages/1d/64/593e829416c951eb35c2246430d59b86f640087e29e71f32632bcde5d0f7/dominate-2.4.0-py2.py3-none-any.whl\n",
            "Collecting visdom>=0.1.8.3\n",
            "\u001b[?25l  Downloading https://files.pythonhosted.org/packages/c9/75/e078f5a2e1df7e0d3044749089fc2823e62d029cc027ed8ae5d71fafcbdc/visdom-0.1.8.9.tar.gz (676kB)\n",
            "\u001b[K     |████████████████████████████████| 686kB 7.7MB/s \n",
            "\u001b[?25hRequirement already satisfied: nltk in /usr/local/lib/python3.6/dist-packages (from -r requirements.txt (line 5)) (3.2.5)\n",
            "Collecting fitz\n",
            "  Downloading https://files.pythonhosted.org/packages/7e/28/27f27d66eb82f24e6595deb26c0a875e62431878c416e38eac515023abb2/fitz-0.0.1.dev2-py2.py3-none-any.whl\n",
            "Requirement already satisfied: numpy in /usr/local/lib/python3.6/dist-packages (from -r requirements.txt (line 7)) (1.17.5)\n",
            "Requirement already satisfied: opencv-python in /usr/local/lib/python3.6/dist-packages (from -r requirements.txt (line 8)) (4.1.2.30)\n",
            "Requirement already satisfied: scipy in /usr/local/lib/python3.6/dist-packages (from -r requirements.txt (line 9)) (1.4.1)\n",
            "Collecting argparse\n",
            "  Downloading https://files.pythonhosted.org/packages/f2/94/3af39d34be01a24a6e65433d19e107099374224905f1e0cc6bbe1fd22a2f/argparse-1.4.0-py2.py3-none-any.whl\n",
            "Requirement already satisfied: tqdm in /usr/local/lib/python3.6/dist-packages (from -r requirements.txt (line 11)) (4.28.1)\n",
            "Requirement already satisfied: pandas in /usr/local/lib/python3.6/dist-packages (from -r requirements.txt (line 12)) (0.25.3)\n",
            "Collecting tensorflow-gpu\n",
            "\u001b[?25l  Downloading https://files.pythonhosted.org/packages/0a/93/c7bca39b23aae45cd2e85ad3871c81eccc63b9c5276e926511e2e5b0879d/tensorflow_gpu-2.1.0-cp36-cp36m-manylinux2010_x86_64.whl (421.8MB)\n",
            "\u001b[K     |████████████████████████████████| 421.8MB 38kB/s \n",
            "\u001b[?25hRequirement already satisfied: Pillow in /usr/local/lib/python3.6/dist-packages (from -r requirements.txt (line 14)) (6.2.2)\n",
            "Requirement already satisfied: six in /usr/local/lib/python3.6/dist-packages (from torchvision>=0.2.1->-r requirements.txt (line 2)) (1.12.0)\n",
            "Requirement already satisfied: requests in /usr/local/lib/python3.6/dist-packages (from visdom>=0.1.8.3->-r requirements.txt (line 4)) (2.21.0)\n",
            "Requirement already satisfied: tornado in /usr/local/lib/python3.6/dist-packages (from visdom>=0.1.8.3->-r requirements.txt (line 4)) (4.5.3)\n",
            "Requirement already satisfied: pyzmq in /usr/local/lib/python3.6/dist-packages (from visdom>=0.1.8.3->-r requirements.txt (line 4)) (17.0.0)\n",
            "Collecting jsonpatch\n",
            "  Downloading https://files.pythonhosted.org/packages/82/53/73ca86f2a680c705dcd1708be4887c559dfe9ed250486dd3ccd8821b8ccb/jsonpatch-1.25-py2.py3-none-any.whl\n",
            "Collecting torchfile\n",
            "  Downloading https://files.pythonhosted.org/packages/91/af/5b305f86f2d218091af657ddb53f984ecbd9518ca9fe8ef4103a007252c9/torchfile-0.1.0.tar.gz\n",
            "Collecting websocket-client\n",
            "\u001b[?25l  Downloading https://files.pythonhosted.org/packages/4c/5f/f61b420143ed1c8dc69f9eaec5ff1ac36109d52c80de49d66e0c36c3dfdf/websocket_client-0.57.0-py2.py3-none-any.whl (200kB)\n",
            "\u001b[K     |████████████████████████████████| 204kB 51.2MB/s \n",
            "\u001b[?25hCollecting pyxnat\n",
            "\u001b[?25l  Downloading https://files.pythonhosted.org/packages/6e/0e/5110817d032aa1d32bbc6278e2add99d3538c5bd0716a921088fcee851c5/pyxnat-1.2.1.0.post3.tar.gz (62kB)\n",
            "\u001b[K     |████████████████████████████████| 71kB 13.6MB/s \n",
            "\u001b[?25hRequirement already satisfied: nibabel in /usr/local/lib/python3.6/dist-packages (from fitz->-r requirements.txt (line 6)) (2.3.3)\n",
            "Collecting configobj\n",
            "  Downloading https://files.pythonhosted.org/packages/64/61/079eb60459c44929e684fa7d9e2fdca403f67d64dd9dbac27296be2e0fab/configobj-5.0.6.tar.gz\n",
            "Collecting configparser\n",
            "  Downloading https://files.pythonhosted.org/packages/7a/2a/95ed0501cf5d8709490b1d3a3f9b5cf340da6c433f896bbe9ce08dbe6785/configparser-4.0.2-py2.py3-none-any.whl\n",
            "Requirement already satisfied: httplib2 in /usr/local/lib/python3.6/dist-packages (from fitz->-r requirements.txt (line 6)) (0.11.3)\n",
            "Collecting nipype\n",
            "\u001b[?25l  Downloading https://files.pythonhosted.org/packages/f1/f0/3e5d7415c4a4cfc3815187124516051035a3ba7444ff2ebc87d83e1c34c1/nipype-1.4.1-py3-none-any.whl (3.1MB)\n",
            "\u001b[K     |████████████████████████████████| 3.1MB 43.7MB/s \n",
            "\u001b[?25hRequirement already satisfied: python-dateutil>=2.6.1 in /usr/local/lib/python3.6/dist-packages (from pandas->-r requirements.txt (line 12)) (2.6.1)\n",
            "Requirement already satisfied: pytz>=2017.2 in /usr/local/lib/python3.6/dist-packages (from pandas->-r requirements.txt (line 12)) (2018.9)\n",
            "Requirement already satisfied: protobuf>=3.8.0 in /usr/local/lib/python3.6/dist-packages (from tensorflow-gpu->-r requirements.txt (line 13)) (3.10.0)\n",
            "Requirement already satisfied: termcolor>=1.1.0 in /usr/local/lib/python3.6/dist-packages (from tensorflow-gpu->-r requirements.txt (line 13)) (1.1.0)\n",
            "Requirement already satisfied: keras-applications>=1.0.8 in /usr/local/lib/python3.6/dist-packages (from tensorflow-gpu->-r requirements.txt (line 13)) (1.0.8)\n",
            "Requirement already satisfied: wheel>=0.26; python_version >= \"3\" in /usr/local/lib/python3.6/dist-packages (from tensorflow-gpu->-r requirements.txt (line 13)) (0.33.6)\n",
            "Requirement already satisfied: wrapt>=1.11.1 in /usr/local/lib/python3.6/dist-packages (from tensorflow-gpu->-r requirements.txt (line 13)) (1.11.2)\n",
            "Requirement already satisfied: gast==0.2.2 in /usr/local/lib/python3.6/dist-packages (from tensorflow-gpu->-r requirements.txt (line 13)) (0.2.2)\n",
            "Collecting tensorflow-estimator<2.2.0,>=2.1.0rc0\n",
            "\u001b[?25l  Downloading https://files.pythonhosted.org/packages/18/90/b77c328a1304437ab1310b463e533fa7689f4bfc41549593056d812fab8e/tensorflow_estimator-2.1.0-py2.py3-none-any.whl (448kB)\n",
            "\u001b[K     |████████████████████████████████| 450kB 58.4MB/s \n",
            "\u001b[?25hCollecting tensorboard<2.2.0,>=2.1.0\n",
            "\u001b[?25l  Downloading https://files.pythonhosted.org/packages/40/23/53ffe290341cd0855d595b0a2e7485932f473798af173bbe3a584b99bb06/tensorboard-2.1.0-py3-none-any.whl (3.8MB)\n",
            "\u001b[K     |████████████████████████████████| 3.8MB 35.8MB/s \n",
            "\u001b[?25hRequirement already satisfied: grpcio>=1.8.6 in /usr/local/lib/python3.6/dist-packages (from tensorflow-gpu->-r requirements.txt (line 13)) (1.15.0)\n",
            "Requirement already satisfied: absl-py>=0.7.0 in /usr/local/lib/python3.6/dist-packages (from tensorflow-gpu->-r requirements.txt (line 13)) (0.9.0)\n",
            "Requirement already satisfied: opt-einsum>=2.3.2 in /usr/local/lib/python3.6/dist-packages (from tensorflow-gpu->-r requirements.txt (line 13)) (3.1.0)\n",
            "Requirement already satisfied: astor>=0.6.0 in /usr/local/lib/python3.6/dist-packages (from tensorflow-gpu->-r requirements.txt (line 13)) (0.8.1)\n",
            "Requirement already satisfied: google-pasta>=0.1.6 in /usr/local/lib/python3.6/dist-packages (from tensorflow-gpu->-r requirements.txt (line 13)) (0.1.8)\n",
            "Requirement already satisfied: keras-preprocessing>=1.1.0 in /usr/local/lib/python3.6/dist-packages (from tensorflow-gpu->-r requirements.txt (line 13)) (1.1.0)\n",
            "Requirement already satisfied: idna<2.9,>=2.5 in /usr/local/lib/python3.6/dist-packages (from requests->visdom>=0.1.8.3->-r requirements.txt (line 4)) (2.8)\n",
            "Requirement already satisfied: certifi>=2017.4.17 in /usr/local/lib/python3.6/dist-packages (from requests->visdom>=0.1.8.3->-r requirements.txt (line 4)) (2019.11.28)\n",
            "Requirement already satisfied: urllib3<1.25,>=1.21.1 in /usr/local/lib/python3.6/dist-packages (from requests->visdom>=0.1.8.3->-r requirements.txt (line 4)) (1.24.3)\n",
            "Requirement already satisfied: chardet<3.1.0,>=3.0.2 in /usr/local/lib/python3.6/dist-packages (from requests->visdom>=0.1.8.3->-r requirements.txt (line 4)) (3.0.4)\n",
            "Collecting jsonpointer>=1.9\n",
            "  Downloading https://files.pythonhosted.org/packages/18/b0/a80d29577c08eea401659254dfaed87f1af45272899e1812d7e01b679bc5/jsonpointer-2.0-py2.py3-none-any.whl\n",
            "Collecting lxml>=4.3\n",
            "\u001b[?25l  Downloading https://files.pythonhosted.org/packages/dd/ba/a0e6866057fc0bbd17192925c1d63a3b85cf522965de9bc02364d08e5b84/lxml-4.5.0-cp36-cp36m-manylinux1_x86_64.whl (5.8MB)\n",
            "\u001b[K     |████████████████████████████████| 5.8MB 48.7MB/s \n",
            "\u001b[?25hRequirement already satisfied: bz2file in /usr/local/lib/python3.6/dist-packages (from nibabel->fitz->-r requirements.txt (line 6)) (0.98)\n",
            "Collecting neurdflib\n",
            "\u001b[?25l  Downloading https://files.pythonhosted.org/packages/41/66/304a1ad40fecee3504a315d831afcaebe156a62ff1628311bac3cb8d55c8/neurdflib-5.0.1-py3-none-any.whl (226kB)\n",
            "\u001b[K     |████████████████████████████████| 235kB 77.5MB/s \n",
            "\u001b[?25hRequirement already satisfied: click>=6.6.0 in /usr/local/lib/python3.6/dist-packages (from nipype->fitz->-r requirements.txt (line 6)) (7.0)\n",
            "Requirement already satisfied: pydot>=1.2.3 in /usr/local/lib/python3.6/dist-packages (from nipype->fitz->-r requirements.txt (line 6)) (1.3.0)\n",
            "Collecting prov>=1.5.2\n",
            "\u001b[?25l  Downloading https://files.pythonhosted.org/packages/aa/f1/85f277cf15ce2fed6f189b220ff14d7b33b21cc7beb95ae48f1255672e74/prov-1.5.3-py2.py3-none-any.whl (423kB)\n",
            "\u001b[K     |████████████████████████████████| 430kB 69.8MB/s \n",
            "\u001b[?25hCollecting traits!=5.0,>=4.6\n",
            "\u001b[?25l  Downloading https://files.pythonhosted.org/packages/4b/2d/b9add8861abe5c85b771005a0dc34c2f91aaf8ee97d38f79b9457b97b434/traits-5.2.0.tar.gz (423kB)\n",
            "\u001b[K     |████████████████████████████████| 430kB 68.7MB/s \n",
            "\u001b[?25hCollecting etelemetry\n",
            "  Downloading https://files.pythonhosted.org/packages/c0/e4/d11d33fe6b0c357776e2b36e76eea5948db2060a155b2862d0d6612730da/etelemetry-0.1.2-py3-none-any.whl\n",
            "Requirement already satisfied: filelock>=3.0.0 in /usr/local/lib/python3.6/dist-packages (from nipype->fitz->-r requirements.txt (line 6)) (3.0.12)\n",
            "Requirement already satisfied: packaging in /usr/local/lib/python3.6/dist-packages (from nipype->fitz->-r requirements.txt (line 6)) (20.0)\n",
            "Requirement already satisfied: pydotplus in /usr/local/lib/python3.6/dist-packages (from nipype->fitz->-r requirements.txt (line 6)) (2.0.2)\n",
            "Requirement already satisfied: networkx>=1.9 in /usr/local/lib/python3.6/dist-packages (from nipype->fitz->-r requirements.txt (line 6)) (2.4)\n",
            "Collecting simplejson>=3.8.0\n",
            "\u001b[?25l  Downloading https://files.pythonhosted.org/packages/98/87/a7b98aa9256c8843f92878966dc3d8d914c14aad97e2c5ce4798d5743e07/simplejson-3.17.0.tar.gz (83kB)\n",
            "\u001b[K     |████████████████████████████████| 92kB 14.6MB/s \n",
            "\u001b[?25hRequirement already satisfied: setuptools in /usr/local/lib/python3.6/dist-packages (from protobuf>=3.8.0->tensorflow-gpu->-r requirements.txt (line 13)) (42.0.2)\n",
            "Requirement already satisfied: h5py in /usr/local/lib/python3.6/dist-packages (from keras-applications>=1.0.8->tensorflow-gpu->-r requirements.txt (line 13)) (2.8.0)\n",
            "Requirement already satisfied: markdown>=2.6.8 in /usr/local/lib/python3.6/dist-packages (from tensorboard<2.2.0,>=2.1.0->tensorflow-gpu->-r requirements.txt (line 13)) (3.1.1)\n",
            "Requirement already satisfied: werkzeug>=0.11.15 in /usr/local/lib/python3.6/dist-packages (from tensorboard<2.2.0,>=2.1.0->tensorflow-gpu->-r requirements.txt (line 13)) (0.16.0)\n",
            "Requirement already satisfied: google-auth-oauthlib<0.5,>=0.4.1 in /usr/local/lib/python3.6/dist-packages (from tensorboard<2.2.0,>=2.1.0->tensorflow-gpu->-r requirements.txt (line 13)) (0.4.1)\n",
            "Collecting google-auth<2,>=1.6.3\n",
            "\u001b[?25l  Downloading https://files.pythonhosted.org/packages/1c/6d/7aae38a9022f982cf8167775c7fc299f203417b698c27080ce09060bba07/google_auth-1.11.0-py2.py3-none-any.whl (76kB)\n",
            "\u001b[K     |████████████████████████████████| 81kB 11.6MB/s \n",
            "\u001b[?25hRequirement already satisfied: pyparsing in /usr/local/lib/python3.6/dist-packages (from neurdflib->nipype->fitz->-r requirements.txt (line 6)) (2.4.6)\n",
            "Collecting isodate\n",
            "\u001b[?25l  Downloading https://files.pythonhosted.org/packages/9b/9f/b36f7774ff5ea8e428fdcfc4bb332c39ee5b9362ddd3d40d9516a55221b2/isodate-0.6.0-py2.py3-none-any.whl (45kB)\n",
            "\u001b[K     |████████████████████████████████| 51kB 9.3MB/s \n",
            "\u001b[?25hCollecting rdflib>=4.2.1\n",
            "\u001b[?25l  Downloading https://files.pythonhosted.org/packages/3c/fe/630bacb652680f6d481b9febbb3e2c3869194a1a5fc3401a4a41195a2f8f/rdflib-4.2.2-py3-none-any.whl (344kB)\n",
            "\u001b[K     |████████████████████████████████| 348kB 59.0MB/s \n",
            "\u001b[?25hRequirement already satisfied: decorator>=4.3.0 in /usr/local/lib/python3.6/dist-packages (from networkx>=1.9->nipype->fitz->-r requirements.txt (line 6)) (4.4.1)\n",
            "Requirement already satisfied: requests-oauthlib>=0.7.0 in /usr/local/lib/python3.6/dist-packages (from google-auth-oauthlib<0.5,>=0.4.1->tensorboard<2.2.0,>=2.1.0->tensorflow-gpu->-r requirements.txt (line 13)) (1.3.0)\n",
            "Requirement already satisfied: pyasn1-modules>=0.2.1 in /usr/local/lib/python3.6/dist-packages (from google-auth<2,>=1.6.3->tensorboard<2.2.0,>=2.1.0->tensorflow-gpu->-r requirements.txt (line 13)) (0.2.7)\n",
            "Requirement already satisfied: rsa<4.1,>=3.1.4 in /usr/local/lib/python3.6/dist-packages (from google-auth<2,>=1.6.3->tensorboard<2.2.0,>=2.1.0->tensorflow-gpu->-r requirements.txt (line 13)) (4.0)\n",
            "Requirement already satisfied: cachetools<5.0,>=2.0.0 in /usr/local/lib/python3.6/dist-packages (from google-auth<2,>=1.6.3->tensorboard<2.2.0,>=2.1.0->tensorflow-gpu->-r requirements.txt (line 13)) (4.0.0)\n",
            "Requirement already satisfied: oauthlib>=3.0.0 in /usr/local/lib/python3.6/dist-packages (from requests-oauthlib>=0.7.0->google-auth-oauthlib<0.5,>=0.4.1->tensorboard<2.2.0,>=2.1.0->tensorflow-gpu->-r requirements.txt (line 13)) (3.1.0)\n",
            "Requirement already satisfied: pyasn1<0.5.0,>=0.4.6 in /usr/local/lib/python3.6/dist-packages (from pyasn1-modules>=0.2.1->google-auth<2,>=1.6.3->tensorboard<2.2.0,>=2.1.0->tensorflow-gpu->-r requirements.txt (line 13)) (0.4.8)\n",
            "Building wheels for collected packages: visdom, torchfile, pyxnat, configobj, traits, simplejson\n",
            "  Building wheel for visdom (setup.py) ... \u001b[?25l\u001b[?25hdone\n",
            "  Created wheel for visdom: filename=visdom-0.1.8.9-cp36-none-any.whl size=655252 sha256=1c2d8001337ceb91dbc80c70979c81bdf090c612d67d1b51dda0f52970531571\n",
            "  Stored in directory: /root/.cache/pip/wheels/70/19/a7/6d589ed967f4dfefd33bc166d081257bd4ed0cb618dccfd62a\n",
            "  Building wheel for torchfile (setup.py) ... \u001b[?25l\u001b[?25hdone\n",
            "  Created wheel for torchfile: filename=torchfile-0.1.0-cp36-none-any.whl size=5711 sha256=ca6082637486c20d432c11e16876c0ec10ee3a22e163b28cc598218f78428e66\n",
            "  Stored in directory: /root/.cache/pip/wheels/b1/c3/d6/9a1cc8f3a99a0fc1124cae20153f36af59a6e683daca0a0814\n",
            "  Building wheel for pyxnat (setup.py) ... \u001b[?25l\u001b[?25hdone\n",
            "  Created wheel for pyxnat: filename=pyxnat-1.2.1.0.post3-cp36-none-any.whl size=71624 sha256=7d5e5067361eedff7748adb918540ef7555accddcc93396e8c616f6426d0e14a\n",
            "  Stored in directory: /root/.cache/pip/wheels/98/46/71/7096c8f1537087e7628bdcc723f6e766880f8dde2667009371\n",
            "  Building wheel for configobj (setup.py) ... \u001b[?25l\u001b[?25hdone\n",
            "  Created wheel for configobj: filename=configobj-5.0.6-cp36-none-any.whl size=34546 sha256=4ae3d4d88e8fe649c26509a54cddcf6cb51be5bb38b511632ba958eb2694c25e\n",
            "  Stored in directory: /root/.cache/pip/wheels/f1/e4/16/4981ca97c2d65106b49861e0b35e2660695be7219a2d351ee0\n",
            "  Building wheel for traits (setup.py) ... \u001b[?25l\u001b[?25hdone\n",
            "  Created wheel for traits: filename=traits-5.2.0-cp36-cp36m-linux_x86_64.whl size=353234 sha256=da80e516dd7e04805ce687130850a80fbed1795145d92fc39a7bf1a1967d7a62\n",
            "  Stored in directory: /root/.cache/pip/wheels/e5/a5/8e/77963012fd6e6b37b6e9a6b13222dad51df159417abf8bdf3d\n",
            "  Building wheel for simplejson (setup.py) ... \u001b[?25l\u001b[?25hdone\n",
            "  Created wheel for simplejson: filename=simplejson-3.17.0-cp36-cp36m-linux_x86_64.whl size=114205 sha256=09146d71c746578cf1095929cc3838e64f015e87ee5701b0d297523dbda1009d\n",
            "  Stored in directory: /root/.cache/pip/wheels/86/c0/83/dcd0339abb2640544bb8e0938aab2d069cef55e5647ce6e097\n",
            "Successfully built visdom torchfile pyxnat configobj traits simplejson\n",
            "\u001b[31mERROR: tensorflow 1.15.0 has requirement tensorboard<1.16.0,>=1.15.0, but you'll have tensorboard 2.1.0 which is incompatible.\u001b[0m\n",
            "\u001b[31mERROR: tensorflow 1.15.0 has requirement tensorflow-estimator==1.15.1, but you'll have tensorflow-estimator 2.1.0 which is incompatible.\u001b[0m\n",
            "\u001b[31mERROR: tensorboard 2.1.0 has requirement grpcio>=1.24.3, but you'll have grpcio 1.15.0 which is incompatible.\u001b[0m\n",
            "\u001b[31mERROR: google-colab 1.0.0 has requirement google-auth~=1.4.0, but you'll have google-auth 1.11.0 which is incompatible.\u001b[0m\n",
            "Installing collected packages: dominate, jsonpointer, jsonpatch, torchfile, websocket-client, visdom, lxml, pyxnat, configobj, configparser, isodate, neurdflib, rdflib, prov, traits, etelemetry, simplejson, nipype, fitz, argparse, tensorflow-estimator, google-auth, tensorboard, tensorflow-gpu\n",
            "  Found existing installation: lxml 4.2.6\n",
            "    Uninstalling lxml-4.2.6:\n",
            "      Successfully uninstalled lxml-4.2.6\n",
            "  Found existing installation: tensorflow-estimator 1.15.1\n",
            "    Uninstalling tensorflow-estimator-1.15.1:\n",
            "      Successfully uninstalled tensorflow-estimator-1.15.1\n",
            "  Found existing installation: google-auth 1.4.2\n",
            "    Uninstalling google-auth-1.4.2:\n",
            "      Successfully uninstalled google-auth-1.4.2\n",
            "  Found existing installation: tensorboard 1.15.0\n",
            "    Uninstalling tensorboard-1.15.0:\n",
            "      Successfully uninstalled tensorboard-1.15.0\n",
            "Successfully installed argparse-1.4.0 configobj-5.0.6 configparser-4.0.2 dominate-2.4.0 etelemetry-0.1.2 fitz-0.0.1.dev2 google-auth-1.11.0 isodate-0.6.0 jsonpatch-1.25 jsonpointer-2.0 lxml-4.5.0 neurdflib-5.0.1 nipype-1.4.1 prov-1.5.3 pyxnat-1.2.1.0.post3 rdflib-4.2.2 simplejson-3.17.0 tensorboard-2.1.0 tensorflow-estimator-2.1.0 tensorflow-gpu-2.1.0 torchfile-0.1.0 traits-5.2.0 visdom-0.1.8.9 websocket-client-0.57.0\n"
          ],
          "name": "stdout"
        },
        {
          "output_type": "display_data",
          "data": {
            "application/vnd.colab-display-data+json": {
              "pip_warning": {
                "packages": [
                  "argparse",
                  "google"
                ]
              }
            }
          },
          "metadata": {
            "tags": []
          }
        },
        {
          "output_type": "stream",
          "text": [
            "Requirement already satisfied: fitz in /usr/local/lib/python3.6/dist-packages (0.0.1.dev2)\n",
            "Requirement already satisfied: numpy in /usr/local/lib/python3.6/dist-packages (from fitz) (1.17.5)\n",
            "Requirement already satisfied: nibabel in /usr/local/lib/python3.6/dist-packages (from fitz) (2.3.3)\n",
            "Requirement already satisfied: configparser in /usr/local/lib/python3.6/dist-packages (from fitz) (4.0.2)\n",
            "Requirement already satisfied: pandas in /usr/local/lib/python3.6/dist-packages (from fitz) (0.25.3)\n",
            "Requirement already satisfied: scipy in /usr/local/lib/python3.6/dist-packages (from fitz) (1.4.1)\n",
            "Requirement already satisfied: pyxnat in /usr/local/lib/python3.6/dist-packages (from fitz) (1.2.1.0.post3)\n",
            "Requirement already satisfied: httplib2 in /usr/local/lib/python3.6/dist-packages (from fitz) (0.11.3)\n",
            "Requirement already satisfied: configobj in /usr/local/lib/python3.6/dist-packages (from fitz) (5.0.6)\n",
            "Requirement already satisfied: nipype in /usr/local/lib/python3.6/dist-packages (from fitz) (1.4.1)\n",
            "Requirement already satisfied: bz2file in /usr/local/lib/python3.6/dist-packages (from nibabel->fitz) (0.98)\n",
            "Requirement already satisfied: six>=1.3 in /usr/local/lib/python3.6/dist-packages (from nibabel->fitz) (1.12.0)\n",
            "Requirement already satisfied: pytz>=2017.2 in /usr/local/lib/python3.6/dist-packages (from pandas->fitz) (2018.9)\n",
            "Requirement already satisfied: python-dateutil>=2.6.1 in /usr/local/lib/python3.6/dist-packages (from pandas->fitz) (2.6.1)\n",
            "Requirement already satisfied: lxml>=4.3 in /usr/local/lib/python3.6/dist-packages (from pyxnat->fitz) (4.5.0)\n",
            "Requirement already satisfied: requests[security] in /usr/local/lib/python3.6/dist-packages (from pyxnat->fitz) (2.21.0)\n",
            "Requirement already satisfied: packaging in /usr/local/lib/python3.6/dist-packages (from nipype->fitz) (20.0)\n",
            "Requirement already satisfied: pydotplus in /usr/local/lib/python3.6/dist-packages (from nipype->fitz) (2.0.2)\n",
            "Requirement already satisfied: prov>=1.5.2 in /usr/local/lib/python3.6/dist-packages (from nipype->fitz) (1.5.3)\n",
            "Requirement already satisfied: simplejson>=3.8.0 in /usr/local/lib/python3.6/dist-packages (from nipype->fitz) (3.17.0)\n",
            "Requirement already satisfied: neurdflib in /usr/local/lib/python3.6/dist-packages (from nipype->fitz) (5.0.1)\n",
            "Requirement already satisfied: etelemetry in /usr/local/lib/python3.6/dist-packages (from nipype->fitz) (0.1.2)\n",
            "Requirement already satisfied: filelock>=3.0.0 in /usr/local/lib/python3.6/dist-packages (from nipype->fitz) (3.0.12)\n",
            "Requirement already satisfied: pydot>=1.2.3 in /usr/local/lib/python3.6/dist-packages (from nipype->fitz) (1.3.0)\n",
            "Requirement already satisfied: traits!=5.0,>=4.6 in /usr/local/lib/python3.6/dist-packages (from nipype->fitz) (5.2.0)\n",
            "Requirement already satisfied: networkx>=1.9 in /usr/local/lib/python3.6/dist-packages (from nipype->fitz) (2.4)\n",
            "Requirement already satisfied: click>=6.6.0 in /usr/local/lib/python3.6/dist-packages (from nipype->fitz) (7.0)\n",
            "Requirement already satisfied: chardet<3.1.0,>=3.0.2 in /usr/local/lib/python3.6/dist-packages (from requests[security]->pyxnat->fitz) (3.0.4)\n",
            "Requirement already satisfied: idna<2.9,>=2.5 in /usr/local/lib/python3.6/dist-packages (from requests[security]->pyxnat->fitz) (2.8)\n",
            "Requirement already satisfied: certifi>=2017.4.17 in /usr/local/lib/python3.6/dist-packages (from requests[security]->pyxnat->fitz) (2019.11.28)\n",
            "Requirement already satisfied: urllib3<1.25,>=1.21.1 in /usr/local/lib/python3.6/dist-packages (from requests[security]->pyxnat->fitz) (1.24.3)\n",
            "Collecting cryptography>=1.3.4; extra == \"security\"\n",
            "\u001b[?25l  Downloading https://files.pythonhosted.org/packages/ca/9a/7cece52c46546e214e10811b36b2da52ce1ea7fa203203a629b8dfadad53/cryptography-2.8-cp34-abi3-manylinux2010_x86_64.whl (2.3MB)\n",
            "\u001b[K     |████████████████████████████████| 2.3MB 2.8MB/s \n",
            "\u001b[?25hCollecting pyOpenSSL>=0.14; extra == \"security\"\n",
            "\u001b[?25l  Downloading https://files.pythonhosted.org/packages/9e/de/f8342b68fa9e981d348039954657bdf681b2ab93de27443be51865ffa310/pyOpenSSL-19.1.0-py2.py3-none-any.whl (53kB)\n",
            "\u001b[K     |████████████████████████████████| 61kB 10.9MB/s \n",
            "\u001b[?25hRequirement already satisfied: pyparsing>=2.0.2 in /usr/local/lib/python3.6/dist-packages (from packaging->nipype->fitz) (2.4.6)\n",
            "Requirement already satisfied: rdflib>=4.2.1 in /usr/local/lib/python3.6/dist-packages (from prov>=1.5.2->nipype->fitz) (4.2.2)\n",
            "Requirement already satisfied: isodate in /usr/local/lib/python3.6/dist-packages (from neurdflib->nipype->fitz) (0.6.0)\n",
            "Requirement already satisfied: decorator>=4.3.0 in /usr/local/lib/python3.6/dist-packages (from networkx>=1.9->nipype->fitz) (4.4.1)\n",
            "Requirement already satisfied: cffi!=1.11.3,>=1.8 in /usr/local/lib/python3.6/dist-packages (from cryptography>=1.3.4; extra == \"security\"->requests[security]->pyxnat->fitz) (1.13.2)\n",
            "Requirement already satisfied: pycparser in /usr/local/lib/python3.6/dist-packages (from cffi!=1.11.3,>=1.8->cryptography>=1.3.4; extra == \"security\"->requests[security]->pyxnat->fitz) (2.19)\n",
            "Installing collected packages: cryptography, pyOpenSSL\n",
            "Successfully installed cryptography-2.8 pyOpenSSL-19.1.0\n",
            "Collecting PyMuPDF\n",
            "\u001b[?25l  Downloading https://files.pythonhosted.org/packages/6a/c1/2e8a737d669ff9b61d2dca45157e42899ab4c07247a8301aecd3b8211121/PyMuPDF-1.16.10-cp36-cp36m-manylinux2010_x86_64.whl (5.3MB)\n",
            "\u001b[K     |████████████████████████████████| 5.3MB 2.4MB/s \n",
            "\u001b[?25hInstalling collected packages: PyMuPDF\n",
            "Successfully installed PyMuPDF-1.16.10\n"
          ],
          "name": "stdout"
        }
      ]
    },
    {
      "cell_type": "code",
      "metadata": {
        "id": "VbiNHYez1wwm",
        "colab_type": "code",
        "colab": {
          "base_uri": "https://localhost:8080/",
          "height": 102
        },
        "outputId": "8ee13984-0452-44ba-c2fe-aa756bd4e425"
      },
      "source": [
        "!python ./pipeline/batch-own.py --mode test --dataroot ./data --model pix2pixHD --checkpoint_dir ./models/pix2pix-model/ "
      ],
      "execution_count": 12,
      "outputs": [
        {
          "output_type": "stream",
          "text": [
            "Predicting outlines\n",
            "python3: can't open file './pix2pixHD/predict.py': [Errno 2] No such file or directory\n",
            "Finding cells\n",
            "Extracting text\n",
            "Creating csv\n"
          ],
          "name": "stdout"
        }
      ]
    },
    {
      "cell_type": "code",
      "metadata": {
        "id": "92ZW6ntH1zmH",
        "colab_type": "code",
        "colab": {
          "base_uri": "https://localhost:8080/",
          "height": 34
        },
        "outputId": "e0421bcd-35f8-4de1-c7c8-9e39faabeaa8"
      },
      "source": [
        "pwd"
      ],
      "execution_count": 5,
      "outputs": [
        {
          "output_type": "execute_result",
          "data": {
            "text/plain": [
              "'/content'"
            ]
          },
          "metadata": {
            "tags": []
          },
          "execution_count": 5
        }
      ]
    },
    {
      "cell_type": "code",
      "metadata": {
        "id": "cAkaCnVq9TmI",
        "colab_type": "code",
        "colab": {
          "base_uri": "https://localhost:8080/",
          "height": 428
        },
        "outputId": "59c22758-249e-4047-aab6-2e117af7d4ba"
      },
      "source": [
        "!pip install minecart"
      ],
      "execution_count": 11,
      "outputs": [
        {
          "output_type": "stream",
          "text": [
            "Collecting minecart\n",
            "  Downloading https://files.pythonhosted.org/packages/14/a9/6a59d0902138e33e17974bfbc377089364bcf4e3fa0f6d0f8d0578c7326f/minecart-0.3.0-py3-none-any.whl\n",
            "Collecting pdfminer3k\n",
            "\u001b[?25l  Downloading https://files.pythonhosted.org/packages/8c/87/cee0aa24f95c287020df7e3936cb51d32b34b05b430759bac15f89ea5ac2/pdfminer3k-1.3.1.tar.gz (4.1MB)\n",
            "\u001b[K     |████████████████████████████████| 4.1MB 7.4MB/s \n",
            "\u001b[?25hRequirement already satisfied: six in /usr/local/lib/python3.6/dist-packages (from minecart) (1.12.0)\n",
            "Requirement already satisfied: pytest>=2.0 in /usr/local/lib/python3.6/dist-packages (from pdfminer3k->minecart) (3.6.4)\n",
            "Collecting ply>=3.4\n",
            "\u001b[?25l  Downloading https://files.pythonhosted.org/packages/a3/58/35da89ee790598a0700ea49b2a66594140f44dec458c07e8e3d4979137fc/ply-3.11-py2.py3-none-any.whl (49kB)\n",
            "\u001b[K     |████████████████████████████████| 51kB 8.5MB/s \n",
            "\u001b[?25hRequirement already satisfied: py>=1.5.0 in /usr/local/lib/python3.6/dist-packages (from pytest>=2.0->pdfminer3k->minecart) (1.8.1)\n",
            "Requirement already satisfied: pluggy<0.8,>=0.5 in /usr/local/lib/python3.6/dist-packages (from pytest>=2.0->pdfminer3k->minecart) (0.7.1)\n",
            "Requirement already satisfied: atomicwrites>=1.0 in /usr/local/lib/python3.6/dist-packages (from pytest>=2.0->pdfminer3k->minecart) (1.3.0)\n",
            "Requirement already satisfied: setuptools in /usr/local/lib/python3.6/dist-packages (from pytest>=2.0->pdfminer3k->minecart) (42.0.2)\n",
            "Requirement already satisfied: more-itertools>=4.0.0 in /usr/local/lib/python3.6/dist-packages (from pytest>=2.0->pdfminer3k->minecart) (8.0.2)\n",
            "Requirement already satisfied: attrs>=17.4.0 in /usr/local/lib/python3.6/dist-packages (from pytest>=2.0->pdfminer3k->minecart) (19.3.0)\n",
            "Building wheels for collected packages: pdfminer3k\n",
            "  Building wheel for pdfminer3k (setup.py) ... \u001b[?25l\u001b[?25hdone\n",
            "  Created wheel for pdfminer3k: filename=pdfminer3k-1.3.1-cp36-none-any.whl size=105356 sha256=2967c7561f8ec0778a3293d202a76db51ea4543a194a08f3d9edc7d8d12df322\n",
            "  Stored in directory: /root/.cache/pip/wheels/ca/4f/a7/cb601b4fb257d2321ac668b7c6e269176780bd0283eda855d2\n",
            "Successfully built pdfminer3k\n",
            "Installing collected packages: ply, pdfminer3k, minecart\n",
            "Successfully installed minecart-0.3.0 pdfminer3k-1.3.1 ply-3.11\n"
          ],
          "name": "stdout"
        }
      ]
    },
    {
      "cell_type": "code",
      "metadata": {
        "id": "h1jj5VjP98nV",
        "colab_type": "code",
        "colab": {}
      },
      "source": [
        ""
      ],
      "execution_count": 0,
      "outputs": []
    }
  ]
}